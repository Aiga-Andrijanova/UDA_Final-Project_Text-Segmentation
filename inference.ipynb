{
 "cells": [
  {
   "cell_type": "code",
   "execution_count": null,
   "metadata": {},
   "outputs": [],
   "source": [
    "import torch\n",
    "import os\n",
    "import cv2\n",
    "\n",
    "from pdf2image import convert_from_path\n",
    "from model import Unet3Plus\n",
    "from seg_helpers import run_prediction\n",
    "from train import load_checkpoint"
   ]
  },
  {
   "cell_type": "code",
   "execution_count": null,
   "metadata": {},
   "outputs": [],
   "source": [
    "device = \"cuda\" if torch.cuda.is_available() else \"cpu\"\n",
    "tile_size = 512\n",
    "model_path = \"./results/Unet3+_restart_2024-01-02_16-15-36/image_model_best_iou-0.761.pth\"\n",
    "\n",
    "input_dirs = [\"./data/test_data/digital_copies\", \"./data/test_data/photos\"]  # A folder that contains PDFs, PNGs or JPGs\n",
    "output_dir = \"./inference_results\"\n",
    "if not os.path.exists(output_dir):\n",
    "    os.makedirs(output_dir)\n",
    "\n",
    "model = Unet3Plus()\n",
    "model, _, _ = load_checkpoint(model, None, model_path)\n",
    "\n",
    "for input_dir in input_dirs:\n",
    "    for filename in os.scandir(input_dir):\n",
    "        if filename.is_file() and '.pdf' in filename.name:\n",
    "            images = convert_from_path(filename.path)\n",
    "            for idx, img in enumerate(images):\n",
    "                output_path = f\"{output_dir}/{filename.name[:-4]}_{idx}\"\n",
    "                run_prediction(img, model, device, tile_size, output_path)\n",
    "        elif filename.is_file() and ('.jpg' in filename.name or '.png' in filename.name):\n",
    "            img = cv2.imread(filename.path)\n",
    "            output_path = f\"{output_dir}/{filename.name[:-4]}\"\n",
    "            run_prediction(img, model, device, tile_size, output_path)\n",
    "        print(f\"Processed: {filename.name}\")\n",
    "\n",
    "print(f\"\\n Inference finished!\")        "
   ]
  }
 ],
 "metadata": {
  "kernelspec": {
   "display_name": "uda",
   "language": "python",
   "name": "python3"
  },
  "language_info": {
   "codemirror_mode": {
    "name": "ipython",
    "version": 3
   },
   "file_extension": ".py",
   "mimetype": "text/x-python",
   "name": "python",
   "nbconvert_exporter": "python",
   "pygments_lexer": "ipython3",
   "version": "3.11.6"
  }
 },
 "nbformat": 4,
 "nbformat_minor": 2
}
